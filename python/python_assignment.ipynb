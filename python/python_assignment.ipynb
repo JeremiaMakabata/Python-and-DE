{
 "cells": [
  {
   "cell_type": "markdown",
   "metadata": {},
   "source": [
    "# Overview\n",
    "This assignment is to test a few key attributes we are looking for in a new team member. Most of these questions are not \n",
    "realistic, however, we hope that they serve as a way for you to demonstrate how you work and organise yourself. \n",
    "The questions are intentionally brief and simple, since we know that this is not the only job opportunity you are exploring."
   ]
  },
  {
   "cell_type": "markdown",
   "metadata": {},
   "source": [
    "### Performance\n",
    "\n",
    "Suppose the `get_resource_identifier` function interrogates some cloud infrastructure to resolve the resource identifier from its name. \n",
    "Note that it takes a long time for the call to finish resolving the name.\n",
    "\n",
    "Now imagine that we need to resolve the resource by its name multiple times during deployment of infrastructure. \n",
    "How can we speed this up without modifying the body of the `get_resource_identifier` function? \n",
    "Remember, you have no control over how quickly the cloud provider can respond to your API call.\n"
   ]
  },
  {
   "cell_type": "code",
   "execution_count": null,
   "metadata": {},
   "outputs": [],
   "source": [
    "import time\n",
    "def get_resource_identifier(name):\n",
    "    time.sleep(1)#simulate the delay\n",
    "    if name is 'foo':\n",
    "        return 'L9UKvnomjq'\n",
    "    if name is 'bar':\n",
    "        return '7U9eyOv7M'\n",
    "    return 'Not found'\n",
    "\n",
    "for _ in range(0,100):\n",
    "    print(get_resource_identifier('foo'))\n",
    "    print(get_resource_identifier('bar'))\n",
    "    print(get_resource_identifier('foo'))\n",
    "    print(get_resource_identifier('zoo'))\n",
    "    print(get_resource_identifier('bar'))\n"
   ]
  },
  {
   "cell_type": "code",
   "execution_count": null,
   "outputs": [],
   "source": [
    "# Enhanced function call\n",
    "def rep(lst=['foo', \"bar\", \"foo\", 'zoo']):\n",
    "    for _ in np.nditer(np.arange(100)):\n",
    "        for k,v in enumerate(lst):\n",
    "            print(get_resource_identifier(k))\n",
    "rep() "
   ],
   "metadata": {
    "collapsed": false,
    "pycharm": {
     "name": "#%%\n"
    }
   }
  },
  {
   "cell_type": "markdown",
   "metadata": {},
   "source": [
    "### Readability and simplicity"
   ]
  },
  {
   "cell_type": "markdown",
   "metadata": {},
   "source": [
    "#### Refactor\n",
    "The section below is an opportunity for you to demonstrate how you refactor code into something simpler and more readable. \n",
    "Refactor the code and write some very simple sanity checks to show that the refactored version is equivalent to the ugly version. \n",
    "You may leave out tests where you think it is not needed."
   ]
  },
  {
   "cell_type": "code",
   "execution_count": null,
   "metadata": {},
   "outputs": [],
   "source": [
    "# Don't modify this\n",
    "colours = ['blue','green','yellow','black','orange']\n",
    "fruits = ['berry','apple','banana','currant']\n",
    "# All of the rest below you may modify \n",
    "# as you please to achieve the desired output"
   ]
  },
  {
   "cell_type": "code",
   "execution_count": null,
   "metadata": {},
   "outputs": [],
   "source": [
    "#ugly\n",
    "for i in range(len(colours)-1,-1,-1):\n",
    "    print(colours[i])\n",
    "\n",
    "#refactor below"
   ]
  },
  {
   "cell_type": "code",
   "execution_count": null,
   "metadata": {},
   "outputs": [],
   "source": [
    "for i in reversed(colours):\n",
    "    print(i)\n",
    "\n",
    "print_reversed(colours)\n",
    "print_reversed(fruits)\n",
    "print_reversed(list(range(10)))\n"
   ]
  },
  {
   "cell_type": "code",
   "execution_count": null,
   "outputs": [],
   "source": [
    "# The same results can be archieved with\n",
    "def print_reversed(lst: list):\n",
    "    for i in reversed(lst):\n",
    "        print(i)\n",
    "\n",
    "    "
   ],
   "metadata": {
    "collapsed": false,
    "pycharm": {
     "name": "#%% \n"
    }
   }
  },
  {
   "cell_type": "code",
   "execution_count": null,
   "outputs": [],
   "source": [
    "\n",
    "#ugly\n",
    "for i in range(len(colours)):\n",
    "    print(i,colours[i])\n",
    "    \n",
    "#refactor below"
   ],
   "metadata": {
    "collapsed": false,
    "pycharm": {
     "name": "#%%\n"
    }
   }
  },
  {
   "cell_type": "code",
   "execution_count": null,
   "outputs": [],
   "source": [
    "for record in lst:\n",
    "    print(lst.index)"
   ],
   "metadata": {
    "collapsed": false,
    "pycharm": {
     "name": "#%%\n"
    }
   }
  },
  {
   "cell_type": "code",
   "execution_count": null,
   "outputs": [],
   "source": [
    "# OR\n",
    "def print_indx_n_val(lst:list):\n",
    "    for record in lst:\n",
    "        print(lst.index)\n",
    "\n",
    "print_reversed(colours)\n",
    "print_reversed(fruits)\n",
    "print_reversed(list(range(10)))\n",
    "\n"
   ],
   "metadata": {
    "collapsed": false,
    "pycharm": {
     "name": "#%%\n"
    }
   }
  },
  {
   "cell_type": "code",
   "execution_count": null,
   "metadata": {},
   "outputs": [],
   "source": [
    "#ugly\n",
    "min_length = min(len(colours),len(fruits))\n",
    "for i in range(min_length):\n",
    "    print(colours[i],fruits[i])\n",
    "    \n",
    "#refactor below"
   ]
  },
  {
   "cell_type": "code",
   "execution_count": null,
   "metadata": {},
   "outputs": [],
   "source": [
    "\n",
    "#ugly\n",
    "#you may deal with these variables in the abstract\n",
    "#you can give them values if you want to do some\n",
    "#sanity checks\n",
    "a< b, b<c, c<d, d<f, f<g \n",
    "a,b,c,d,f,g = 1,2,3,4,5,6\n",
    "if a <= b and f <= g and c<=d and d<=f and b<=c:\n",
    "    print('pass')\n",
    "else:\n",
    "    print('fail')\n",
    "    \n",
    "#refactor below"
   ]
  },
  {
   "cell_type": "code",
   "execution_count": null,
   "outputs": [],
   "source": [
    "if a<= b <= c <=d <= f<= g:\n",
    "    print('pass')\n",
    "else:\n",
    "    print('fail')"
   ],
   "metadata": {
    "collapsed": false,
    "pycharm": {
     "name": "#%% \n"
    }
   }
  },
  {
   "cell_type": "markdown",
   "metadata": {},
   "source": [
    "#### Implement\n",
    "This section provides an opportunity to demonstrate how you would write some very simple things in a pythonic way."
   ]
  },
  {
   "cell_type": "markdown",
   "metadata": {},
   "source": [
    "Task1:"
   ]
  },
  {
   "cell_type": "code",
   "execution_count": null,
   "metadata": {},
   "outputs": [],
   "source": [
    "#Generate the following string from the colours list defined above:\n",
    "# 'blue --> green --> yellow --> black --> orange'\n",
    "colours1 = [record + \" --> \" if record != colours[-1] else record for record in colours]\n",
    "string = ''.join(colours1)\n",
    "# or simply \n",
    "string = ''.join([record + \" --> \" if record != colours[-1] else record for record in colours])\n"
   ]
  },
  {
   "cell_type": "markdown",
   "metadata": {},
   "source": [
    "Task2"
   ]
  },
  {
   "cell_type": "code",
   "execution_count": null,
   "metadata": {},
   "outputs": [],
   "source": [
    "# find the elements that exist in the first list but not the second\n",
    "# and the elements that exist in the second, but not in the first\n",
    "# put this result in into a single list and sort them in ascending order\n"
   ]
  },
  {
   "cell_type": "code",
   "execution_count": null,
   "outputs": [],
   "source": [
    "# implementation\n",
    "first = [2,2,5,6,7,2,1,8,9,9]\n",
    "second = [2,1,5,6,66,7,77]\n",
    "def diff_list(lst1:list, lst2:list):\n",
    "    A,B = set(lst1), set(lst2)\n",
    "    C = A.difference(B).union(B.difference(A))\n",
    "    C = list(sorted(C))\n",
    "    return C\n",
    "diff_list(first, second)\n",
    "     "
   ],
   "metadata": {
    "collapsed": false,
    "pycharm": {
     "name": "#%%\n"
    }
   }
  }
 ],
 "metadata": {
  "kernelspec": {
   "display_name": "Python 3",
   "language": "python",
   "name": "python3"
  },
  "language_info": {
   "codemirror_mode": {
    "name": "ipython",
    "version": 3
   },
   "file_extension": ".py",
   "mimetype": "text/x-python",
   "name": "python",
   "nbconvert_exporter": "python",
   "pygments_lexer": "ipython3",
   "version": "3.5.2"
  },
  "pycharm": {
   "stem_cell": {
    "cell_type": "raw",
    "source": [],
    "metadata": {
     "collapsed": false
    }
   }
  }
 },
 "nbformat": 4,
 "nbformat_minor": 2
}