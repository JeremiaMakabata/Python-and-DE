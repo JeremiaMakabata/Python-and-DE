{
 "cells": [
  {
   "cell_type": "code",
   "execution_count": 2,
   "metadata": {},
   "outputs": [],
   "source": [
    "Scenario:\n",
    "    The data the the dirty table/file was loaded through a ELT prcess and never went through transformation.\n",
    "    The data science team are pulling from the initial load table. "
   ]
  },
  {
   "cell_type": "code",
   "execution_count": null,
   "metadata": {},
   "outputs": [],
   "source": [
    "From an intial peak at the two dataset, it is clear that the there are discrepancies between the schemas(columns).\n",
    "Per our scenario this would be dues to the ELT process. As it stands, the dta scientist are fetching untransforemd. \n",
    "The possible cause of the issue can be outlined as follows:\n",
    "    1. The data was loaded outside of a transition, and the subsequent transformation of the data was not carried out.\n",
    "        this can be seen on the gender,tran_date and tran_type columns\n",
    "    2. The query which was used to load the data was inaccurate as  the values associated with the `tran_id` column \n",
    "        was insterted into the table as a value of tran_hash and vice versa."
   ]
  },
  {
   "cell_type": "code",
   "execution_count": null,
   "metadata": {},
   "outputs": [],
   "source": [
    "To remediate the data, there are several steps which need to be implmented to transform the data before loading new data.\n",
    "1. The data dirty data will be transformed and stored in a new table. The transformation with be seperated into the foloowing steps:\n",
    "    a. Create a new table with the following columns:['tran_id', 'first_name', 'last_name', 'tran_date', 'gender', 'tran_value', 'tran_hash', 'tran_lat', 'tran_long', 'tran_type','tran_status']\n",
    "    b. For the purpose of remediation a new table will also be created to store all the new clean data.\n",
    "    c. In a transition the data the `b` and old data (yet to be loaded in `a`) will be compared based on `first_name` and `last_name`.\n",
    "        The results of all matching data will be pushed into the table in `a` along with data in `b` but not in the old table. \n",
    "        All orphan data from the old will be stored in a new table. \n",
    "2. Clean up all data of the dairty table and contine using it as the `Loading` table for the ELT process. \n",
    "3. After loading, the data will be `Transformed in Query` and pushed to table `a`. \n",
    "\n",
    "For an insight on the differences refere to the cell below."
   ]
  },
  {
   "cell_type": "code",
   "execution_count": null,
   "metadata": {},
   "outputs": [],
   "source": [
    "In sumarry the new ELT pipeline Implementation to insure consistancy will be as follows\n",
    "Extract data from source ---> Load data into Stating Table(In a Transition) ---> Transformation of Data and loading (In a transition)"
   ]
  },
  {
   "cell_type": "code",
   "execution_count": null,
   "metadata": {},
   "outputs": [],
   "source": []
  }
 ],
 "metadata": {
  "kernelspec": {
   "display_name": "Python 3",
   "language": "python",
   "name": "python3"
  },
  "language_info": {
   "codemirror_mode": {
    "name": "ipython",
    "version": 3
   },
   "file_extension": ".py",
   "mimetype": "text/x-python",
   "name": "python",
   "nbconvert_exporter": "python",
   "pygments_lexer": "ipython3",
   "version": "3.7.3"
  }
 },
 "nbformat": 4,
 "nbformat_minor": 2
}
